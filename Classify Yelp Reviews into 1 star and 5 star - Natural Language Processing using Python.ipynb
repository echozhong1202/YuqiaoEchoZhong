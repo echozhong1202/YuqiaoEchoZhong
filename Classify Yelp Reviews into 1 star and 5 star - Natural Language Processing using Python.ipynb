{
 "cells": [
  {
   "cell_type": "code",
   "execution_count": null,
   "metadata": {},
   "outputs": [],
   "source": [
    "__author__ = \"Yuqiao(Echo) Zhong\"\n",
    "__email__ = \"yuqiao.zhong@simon.rochester.edu\"\n",
    "__website__ = \"https://www.linkedin.com/in/yuqiaoechozhong/\""
   ]
  },
  {
   "cell_type": "markdown",
   "metadata": {},
   "source": [
    "# Part 1 - Introduction\n",
    "My ultimate goal for this project is to predict whether a Yelp review is 1 star or 5 star based on the text content. I took a machine learning course taught by Jose Portilla on Udemy. And now I want to apply what I learned into a new project. \n",
    "\n",
    "First I vectorized text messages into a form that machine learning algorithms can understand. Next I train a machine learning model to learn to discriminate between 1 star and 5 star messages. Finally, with the trained model, I will classify the reviews into 1 star or 5 star.\n",
    "\n",
    "Dataset Informatiom\n",
    "The yelp review dataset is obtained from Kaggle dataset (https://www.kaggle.com/c/yelp-recsys-2013Each). Each observation in this dataset is a review of a particular business by a particular user.\n",
    "The \"stars\" column is the number of stars (1 through 5) assigned by the reviewer to the business. (Higher stars is better.) In other words, it is the rating of the business by the person who wrote the review. The \"cool\" column is the number of \"cool\" votes this review received from other Yelp users. The \"useful\" and \"funny\" columns are similar to the \"cool\" column."
   ]
  },
  {
   "cell_type": "markdown",
   "metadata": {},
   "source": [
    "# Part 2 - Exploratory Data Analysis"
   ]
  },
  {
   "cell_type": "markdown",
   "metadata": {},
   "source": [
    "**Import the libraries**"
   ]
  },
  {
   "cell_type": "code",
   "execution_count": 2,
   "metadata": {},
   "outputs": [],
   "source": [
    "import pandas as pd\n",
    "import numpy as np\n",
    "import seaborn as sns\n",
    "import matplotlib.pyplot as plt\n",
    "%matplotlib inline"
   ]
  },
  {
   "cell_type": "markdown",
   "metadata": {},
   "source": [
    "**Load the data**"
   ]
  },
  {
   "cell_type": "code",
   "execution_count": 3,
   "metadata": {},
   "outputs": [
    {
     "data": {
      "text/html": [
       "<div>\n",
       "<style scoped>\n",
       "    .dataframe tbody tr th:only-of-type {\n",
       "        vertical-align: middle;\n",
       "    }\n",
       "\n",
       "    .dataframe tbody tr th {\n",
       "        vertical-align: top;\n",
       "    }\n",
       "\n",
       "    .dataframe thead th {\n",
       "        text-align: right;\n",
       "    }\n",
       "</style>\n",
       "<table border=\"1\" class=\"dataframe\">\n",
       "  <thead>\n",
       "    <tr style=\"text-align: right;\">\n",
       "      <th></th>\n",
       "      <th>business_id</th>\n",
       "      <th>date</th>\n",
       "      <th>review_id</th>\n",
       "      <th>stars</th>\n",
       "      <th>text</th>\n",
       "      <th>type</th>\n",
       "      <th>user_id</th>\n",
       "      <th>cool</th>\n",
       "      <th>useful</th>\n",
       "      <th>funny</th>\n",
       "    </tr>\n",
       "  </thead>\n",
       "  <tbody>\n",
       "    <tr>\n",
       "      <td>0</td>\n",
       "      <td>9yKzy9PApeiPPOUJEtnvkg</td>\n",
       "      <td>2011-01-26</td>\n",
       "      <td>fWKvX83p0-ka4JS3dc6E5A</td>\n",
       "      <td>5</td>\n",
       "      <td>My wife took me here on my birthday for breakf...</td>\n",
       "      <td>review</td>\n",
       "      <td>rLtl8ZkDX5vH5nAx9C3q5Q</td>\n",
       "      <td>2</td>\n",
       "      <td>5</td>\n",
       "      <td>0</td>\n",
       "    </tr>\n",
       "    <tr>\n",
       "      <td>1</td>\n",
       "      <td>ZRJwVLyzEJq1VAihDhYiow</td>\n",
       "      <td>2011-07-27</td>\n",
       "      <td>IjZ33sJrzXqU-0X6U8NwyA</td>\n",
       "      <td>5</td>\n",
       "      <td>I have no idea why some people give bad review...</td>\n",
       "      <td>review</td>\n",
       "      <td>0a2KyEL0d3Yb1V6aivbIuQ</td>\n",
       "      <td>0</td>\n",
       "      <td>0</td>\n",
       "      <td>0</td>\n",
       "    </tr>\n",
       "    <tr>\n",
       "      <td>2</td>\n",
       "      <td>6oRAC4uyJCsJl1X0WZpVSA</td>\n",
       "      <td>2012-06-14</td>\n",
       "      <td>IESLBzqUCLdSzSqm0eCSxQ</td>\n",
       "      <td>4</td>\n",
       "      <td>love the gyro plate. Rice is so good and I als...</td>\n",
       "      <td>review</td>\n",
       "      <td>0hT2KtfLiobPvh6cDC8JQg</td>\n",
       "      <td>0</td>\n",
       "      <td>1</td>\n",
       "      <td>0</td>\n",
       "    </tr>\n",
       "    <tr>\n",
       "      <td>3</td>\n",
       "      <td>_1QQZuf4zZOyFCvXc0o6Vg</td>\n",
       "      <td>2010-05-27</td>\n",
       "      <td>G-WvGaISbqqaMHlNnByodA</td>\n",
       "      <td>5</td>\n",
       "      <td>Rosie, Dakota, and I LOVE Chaparral Dog Park!!...</td>\n",
       "      <td>review</td>\n",
       "      <td>uZetl9T0NcROGOyFfughhg</td>\n",
       "      <td>1</td>\n",
       "      <td>2</td>\n",
       "      <td>0</td>\n",
       "    </tr>\n",
       "    <tr>\n",
       "      <td>4</td>\n",
       "      <td>6ozycU1RpktNG2-1BroVtw</td>\n",
       "      <td>2012-01-05</td>\n",
       "      <td>1uJFq2r5QfJG_6ExMRCaGw</td>\n",
       "      <td>5</td>\n",
       "      <td>General Manager Scott Petello is a good egg!!!...</td>\n",
       "      <td>review</td>\n",
       "      <td>vYmM4KTsC8ZfQBg-j5MWkw</td>\n",
       "      <td>0</td>\n",
       "      <td>0</td>\n",
       "      <td>0</td>\n",
       "    </tr>\n",
       "  </tbody>\n",
       "</table>\n",
       "</div>"
      ],
      "text/plain": [
       "              business_id        date               review_id  stars  \\\n",
       "0  9yKzy9PApeiPPOUJEtnvkg  2011-01-26  fWKvX83p0-ka4JS3dc6E5A      5   \n",
       "1  ZRJwVLyzEJq1VAihDhYiow  2011-07-27  IjZ33sJrzXqU-0X6U8NwyA      5   \n",
       "2  6oRAC4uyJCsJl1X0WZpVSA  2012-06-14  IESLBzqUCLdSzSqm0eCSxQ      4   \n",
       "3  _1QQZuf4zZOyFCvXc0o6Vg  2010-05-27  G-WvGaISbqqaMHlNnByodA      5   \n",
       "4  6ozycU1RpktNG2-1BroVtw  2012-01-05  1uJFq2r5QfJG_6ExMRCaGw      5   \n",
       "\n",
       "                                                text    type  \\\n",
       "0  My wife took me here on my birthday for breakf...  review   \n",
       "1  I have no idea why some people give bad review...  review   \n",
       "2  love the gyro plate. Rice is so good and I als...  review   \n",
       "3  Rosie, Dakota, and I LOVE Chaparral Dog Park!!...  review   \n",
       "4  General Manager Scott Petello is a good egg!!!...  review   \n",
       "\n",
       "                  user_id  cool  useful  funny  \n",
       "0  rLtl8ZkDX5vH5nAx9C3q5Q     2       5      0  \n",
       "1  0a2KyEL0d3Yb1V6aivbIuQ     0       0      0  \n",
       "2  0hT2KtfLiobPvh6cDC8JQg     0       1      0  \n",
       "3  uZetl9T0NcROGOyFfughhg     1       2      0  \n",
       "4  vYmM4KTsC8ZfQBg-j5MWkw     0       0      0  "
      ]
     },
     "execution_count": 3,
     "metadata": {},
     "output_type": "execute_result"
    }
   ],
   "source": [
    "yelp = pd.read_csv('yelp.csv')\n",
    "yelp.head()"
   ]
  },
  {
   "cell_type": "markdown",
   "metadata": {},
   "source": [
    "**Create a new column to record the length of each review**"
   ]
  },
  {
   "cell_type": "code",
   "execution_count": 4,
   "metadata": {},
   "outputs": [],
   "source": [
    "yelp['text length'] = yelp['text'].apply(len)"
   ]
  },
  {
   "cell_type": "markdown",
   "metadata": {},
   "source": [
    "**First, let's see how many reviews are in each star.**"
   ]
  },
  {
   "cell_type": "code",
   "execution_count": 8,
   "metadata": {},
   "outputs": [
    {
     "data": {
      "text/plain": [
       "<matplotlib.axes._subplots.AxesSubplot at 0x1a23858690>"
      ]
     },
     "execution_count": 8,
     "metadata": {},
     "output_type": "execute_result"
    },
    {
     "data": {
      "image/png": "[encoded data removed]",
      "text/plain": [
       "<Figure size 432x288 with 1 Axes>"
      ]
     },
     "metadata": {},
     "output_type": "display_data"
    }
   ],
   "source": [
    "sns.countplot(yelp['stars'])"
   ]
  },
  {
   "cell_type": "markdown",
   "metadata": {},
   "source": [
    "Most reviews are in the 4 star category. "
   ]
  },
  {
   "cell_type": "markdown",
   "metadata": {},
   "source": [
    "**Let's use FacetGrid to create a grid of 5 histograms of text length based off of the star ratings**"
   ]
  },
  {
   "cell_type": "code",
   "execution_count": 5,
   "metadata": {},
   "outputs": [
    {
     "data": {
      "text/plain": [
       "<seaborn.axisgrid.FacetGrid at 0x1a2285d450>"
      ]
     },
     "execution_count": 5,
     "metadata": {},
     "output_type": "execute_result"
    },
    {
     "data": {
      "image/png": "[encoded data removed]",
      "text/plain": [
       "<Figure size 1440x288 with 5 Axes>"
      ]
     },
     "metadata": {},
     "output_type": "display_data"
    }
   ],
   "source": [
    "sns.set_style('whitegrid')\n",
    "length_hist = sns.FacetGrid(yelp, col=\"stars\", height=4)\n",
    "length_hist.map(plt.hist, \"text length\", bins=30)"
   ]
  },
  {
   "cell_type": "markdown",
   "metadata": {},
   "source": [
    "From the length distribution plots, it seems like most reviews are around 500 words. There are much more reviews in the 4 and 5 stars reviews. But let's further explore if there is any outliers."
   ]
  },
  {
   "cell_type": "code",
   "execution_count": 6,
   "metadata": {},
   "outputs": [
    {
     "data": {
      "text/plain": [
       "<matplotlib.axes._subplots.AxesSubplot at 0x1a23000450>"
      ]
     },
     "execution_count": 6,
     "metadata": {},
     "output_type": "execute_result"
    },
    {
     "data": {
      "image/png": "[encoded data removed]",
      "text/plain": [
       "<Figure size 432x288 with 1 Axes>"
      ]
     },
     "metadata": {},
     "output_type": "display_data"
    }
   ],
   "source": [
    "sns.boxplot(x='stars',y='text length',data=yelp, palette='coolwarm')"
   ]
  },
  {
   "cell_type": "markdown",
   "metadata": {},
   "source": [
    "Interesting finding, 5 star review actually has the least amount of text but a lot of outliers. There are about 3 of them are over 4500 words. What are they? "
   ]
  },
  {
   "cell_type": "code",
   "execution_count": 7,
   "metadata": {
    "collapsed": true
   },
   "outputs": [
    {
     "name": "stdout",
     "output_type": "stream",
     "text": [
      "Pizzeria Bianco: Before and After \n",
      "Cited as \"the best pizza in America\" in numerous on-line reviews as well as on Good Morning America and as published in, Slice of Heaven, to most pizza lovers the three to four hour wait for a table is so daunting that they push on to a more open table atmosphere for their pizza experience. But to the true pizza enthusiast, Pizzeria Bianco is as much about the experience as it is the food. This place is best known for the owner Chris Bianco, hand tossing each and every pizza pie served every Tuesday through Saturday, from 5-10 pm for nearly 15 years, of which I was one of those fortunate customers. However, early 2010 Chris was forced to retire due to illness and turn over the pizza paddle and oven duties to his protégé of 15 years, Horatio Hernandez. \n",
      "My decision to try Pizzeria Bianco for the first time came from a challenge I put upon myself: Find the best food in metropolitan Phoenix. After hearing about Pizzeria Bianco from a friend, I made gourmet pizza my first battle in 2009. I knew about the long lines forming an hour or more before the restaurant opened, and this beautiful fall day was no exception. I arrived 60 minutes before opening and my date went to Bar Bianco to start us off with a couple of pale ale microbrews while I held our place in line. Seeing that there were only about 20 people ahead of us, we assumed we would make the 5:00 seating with no trouble. However, just as we were holding a place for the rest of our party, so were the 20 or so people ahead of us, and when the door opened promptly at 5:00, there were now over 50 people ahead of us. Needless to say we were left waiting another hour since the restaurant seats only about 40 at a time. \n",
      "When we were seated at 6:00, the four of us started with the homemade mozzarella, local tomato and sweet basil starter with extra virgin olive oil drizzled all over as well as homemade crusty bread with a dish of EVOO with a touch of balsamic added. We ordered three pizzas, the Sonny Boy providing salami, marinara sauce and gaeta olives, the Wiseguy a sausage and mozzarella taste explosion and the Marinara with Prosciutto di Parma. All three pizzas were piping hot when they arrived, just crisp enough around the edges and loaded with the most amazing flavors your mouth has ever experienced. We left the restaurant without remembering the nearly 3 hour wait and were fully satisfied, eager for the next opportunity to drive to 623 Adams in Phoenix for another \"slice of heaven\". \n",
      "And so, after hearing of the departure of Chris from the kitchen, curiosity got the best of me. I had to challenge this place and find out if the changing of the guard made any difference in the wait time, the food quality or the overall experience I had truly fallen for. April 6, 2010 again I ventured down to 623 Adams in Phoenix to see if a Tuesday night or a new head chef had made any difference at all. My date and I arrived at approximately 4:00 pm, one hour before the doors would open. We found a line of about 25 people and looked at each other and said, almost in unison, \"Well, the wait hasn't changed\". \n",
      "Bob trotted off to Bar Bianco to find our pale ale, Four Peaks to help pass the time. We caught a glimpse of owner Chris Bianco and I told Bob how I would love to chat with him seeing as I was writing a comparison review, I also wanted to find out who was cooking tonight. Bob stalked Chris into Bar Bianco and asked him if he had any time, would he be willing to take a picture with me and answer a couple of questions. When Bob returned with another beer and Chris Bianco in tow, I was star struck and could barely speak. All I could muster up was, \"Are you cooking tonight?\" To which he replied, \"No, I have Horatio at the oven. I can't cook anymore.\" I explained my evaluative writing topic and he assured me the experience would be the same. We took a picture and off he went, back to the bar. \n",
      "At 6:15pm, after 2.25 hours of complete social enjoyment we were called to our seats at the bar. We ordered the same items we had enjoyed last fall with the exception of the Marinara. The overall experience was better for me as I got to enjoy personal time with Chris. As for the meal, it was just as amazing as I remembered it from 6 months prior with Chris tossing the pie for every customer. The flavors were exactly as I remembered and the service from the staff was top notch, just like the first time. From the wait to the taste, it didn't appear that anything had changed! \n",
      "So what makes for the \"best pizza in America\" and how did Pizzeria Bianco get the tag line? Well, my opinion is flavorful ingredients, a phenomenal social experience, and an owner who lives by what he serves. To Chris Bianco and the Pizzeria Bianco staff, you haven't skipped a beat! \n",
      "\n",
      "\n",
      "Owned and operated by Eugenia Theodosopoulos (an Ohio native, fyi) and considered by many to be the best patisserie/bakery in the state I approached Essence with a note of skepticism largely assuming much of the hype was derived from Tempe's plethoric college crowd but arriving at the doors of the small shop on a particularly lovely 80 degree morning I gathered quite quickly that my original conceptions were misplaced; not only does Essence not look like a college haunt, neither do its prices or products - a vast selection of at least twenty items aside from the posted menu sitting beneath and atop a glass case forcing me to make more than one tough decision that was not helped by my server's accurate assessment that everything was really good.\n",
      "\n",
      "Now bearing in mind that the original impetus to visit Tempe on this particular morning was to visit Caffe Boa and that Essence was more of 'pre-meal' activity what follows may seem slightly gluttonous, but to be fair once I took my first bite of Theodosopoulos's École Lenôtre trained almond croissant I knew I was in good hands and everything else just sort of followed.  Without a doubt my favorite breakfast pastry and perhaps my favorite French pastry overall, Essence's $3 twice baked option arrives slightly smaller than the average but with a shell that crackles to the tooth and an interior that is at once yawning pockets of air and nearly overloaded with butter and light frangipane there is no doubt that this is a case of \"big things in small packages,\" and particularly in its still-warm morning state the flavors and textures rivaled those at Dominique Ansel and Payard Las Vegas for best I've had stateside.\n",
      "\n",
      "Moving next from the baked goods to one prepared from the menu my second taste of the morning aside from the slightly earthy and lightly leather accented coffee was Essence's \"Signature\" French Toast, a $7.25 selection featuring three griddled slices of eggy brioche and a sidecar of what I can best describe as banana infused caramel.  Rich but thinly sliced and therefore nicely saturated each piece of the French Toast was exactly as it should be - the exterior crisp and the interior custard-while the sauce provided a pleasant balance of fruity notes and intrinsic sweetness that complimented rather than overwhelming the bread.\n",
      "\n",
      "At this point submitting to the fact that I was going to eat even the items I'd bought 'for later,' my next two tastes were a pair of $2.95 macarons that, much like the croissant, rivaled those both here and abroad in terms of taste and texture while opting for a much more rustic approach terms of size and presentation.  Beginning first with Pumpkin Spice and then proceeding to Vanilla with Dark Rum each palm-sized cookie was exactly what one would expect from a well trained pastry chef as the exterior shell provided a slight crackle on bite subsequently giving way to a soft meringue followed by dense cream that slowly dissipated on the tongue - the cinnamon and nutmeg notes of the former particularly notable while the rum in the second was appropriately understated thus serving to highlight the vanilla of the shell.\n",
      "\n",
      "If there were any 'misstep' on the morning, it *might* have been the \"Summer Berry Croissant Bread Pudding,\" though when I say misstep I must temper the comment with the fact that my quibble is only that I prefer the French/English take on the dish while this one was more based on the French Custard style, a rich vanilla bean pudding without a lot of crunch or textural variance but instead laden with blackberries, raspberries, and strawberries plus a sidecar of lightly sugared strawberries.  Focusing more of the natural sweetness of the fruits and aromatics of the vanilla than the typical overly sweet versions served stateside it was more panna cotta than bread pudding to me, but chalking that up to personal tastes it was still delicious.\n",
      "\n",
      "Moving last to the one dish that gave me trepidation, the \"French Napoleon\" gave caused pause not only because the name clearly skewed towards a subset unfamiliar with a proper Mille-Feuille but also because so many pre-made versions of this layered pastry have failed to wow in the past...thankfully this was not the case at Essence.  Featuring light and crunchy layers of choux easily withstanding the tines of a fork without turning into a smooshy mess (see \"Mille Feuille New York\") intertwined with rich pastry cream speckled with dots of vanilla bean and ripe raspberries what truly made this version stand out was the manner in which Theodosopoulos caramelized each layer of choux, a technique reminiscent of Pierre Herme and as good as the French icon's version was I'd be hard pressed to say Essence's was any less impressive.  It would be awesome to see what they could do a la minut like Savoy, L'Arpege, or Genin and given the names I've dropped in the paragraphs above plus Essence's proximity I've no doubt I'll be returning to see what else the small shop is capable of soon. \n",
      "\n",
      "\n",
      "Wow. Wow Freakin' Wow.\n",
      "\n",
      "I have never, ever had such a perfect dining experience from the minute they greet you, learn your name, cater to your every need, and give you FABULOUS, beautifully prepared food since...well, NEVER. \n",
      "\n",
      "I must say I did do my research, so I did know what I wanted to try and even though I kind of expected the JW Marriott to be more of a snooty place, I felt it would be closest to my house and wanted to find out for myself what all the hoopla was about this Roy person and his fish.\n",
      "\n",
      "I went with my friend Amy who was visiting from New York. She had been to Roy's before and is a fellow foodie. We got to the restaurant early and went outside on the immense patio area to sit and have a drink. It's December so a bit chilly but the HUGE, soft patio furniture was extremely cozy and we sat and had $20 martinis (LOADED with vodka. Warning: We had to ask for more fruit juice! And we are major drinkers - just gotta throw that in there.) Our waitress on the patio could not have been more accomodating and she even brought us new martinis even though we drank quite a bit of our strong ones. I am a people watcher and it was nice to see that there was an assortment of people sitting on the furniture, some of them looked like they could be relatives of mine, enjoying the late afternoon, reading, conversing....well, if I HAD any rich or classy relatives, that is. It was very nice and relaxing. Plus the Mariott property is stunning and I wish I could have looked around the property more than we did.\n",
      "\n",
      "When we meandered inside for dinner, the hostess greeted us by name and our server showed us to our table. She was very competent, could make recommendations, and was pleasant without being clingy. We loved her. She reminded me of Joan Cusack. Sounded just like her!\n",
      "\n",
      "The complimentary appetizer of lightly spiced, steamed edamame was delightful and even though they gave us warmed wet washcloths we were complete heathens and ate with our hands without ever using them.\n",
      "\n",
      "We shared the Roy's Canoe for Two, which had Lobster potstickers, Beef Satay, shrimp on a stick (not its real name), and Tuna Sushi Rolls. I must say - the Lobster potstickers - better than sex. The Beef satay was basically this ultra-tender beef on a stick, lightly flavored and grilled. Fabulous. But the pinnacle of perfection here was the Tuna sushi rolls, which absolutely knocked our socks off. I have never, ever had such an amazing piece of sushi before that moment. I think our  server, Joan Cusack (Not her real name) thought I was choking because as I ate it, my eyes were rolling back into my head in ecstacy.  She bustled over and once she got closer she could see she was merely interrupting a very intimate moment with me and my tuna roll and she went back to her post after giving me a thumbs-up sign. For whatever reason, these tuna sushi rolls were encrusted in what may have been macadamia nuts and it was completely divine. I re-live that moment over and over. MMM.\n",
      "\n",
      "But you know, the showstopper was STILL yet to come. I could not believe my luck when my Roy's Trio was placed in front of me. It was a piece of Hawaiian butterfish in Miso sauce, a piece of Seared Ahi, and a piece of salmon. The poor salmon! It was the best salmon I ever had out, but next to those two it was like Cinderella's ugly stepsister. Just upstaged by the butterfish, which is melt-in-your mouth decadence, and the seared ahi - which surpassed the tuna roll I just got done fantasizing about as the most perfect piece of sushi EVER.\n",
      "\n",
      "Amy got the butterfish. We licked our plates clean. Amy tried my Ahi and declared it, like I did, the BEST seared Ahi on the planet.\n",
      "\n",
      "For dessert, you KNOW I had to have the molten chocolate souffle. How good was it?? Brad Pitt could have walked up naked to our table and I would not have looked up long enough to stop shoveling it into my face.\n",
      "\n",
      "Amy ordered the 3 creme brulees - one had a Hawaiian orchid on it, and they were not only lovely but they tasted amazing. The coconut one was so fresh and it made me think that THIS is what every coconut cream pie in the world needs to taste like. I think the other flavors are vanilla bean (very good too) and maybe rum? (also very good) \n",
      "\n",
      "It may not sound like I am doing the dessert justice but when you've been kissing George Clooney for an hour then along comes Rick Springfield, which one is better? They are both amazing, but by the time Rick comes along, well, you're kind of spoiled already.\n",
      "\n",
      "Roy's could not have been better - this entire experience was an A++ through and through. \n",
      "\n",
      "The staff was extremely helpful (someone walked me to the ladies room when I merely asked where it was) (Oh and need I mention the corwn molding in the bathroom stalls was nicer than the crown molding in my house???) (And you know you are in a classy joint when a basket of tampons and maxi-pads is out on the marble bathroom counter, like party favors for down under)\n",
      "\n",
      "THUMBS WAY UP!!! \n",
      "\n",
      "\n"
     ]
    }
   ],
   "source": [
    "for message in yelp[(yelp['stars']==5) & (yelp['text length']>4500)]['text']:\n",
    "    print (message,\"\\n\\n\")"
   ]
  },
  {
   "cell_type": "markdown",
   "metadata": {},
   "source": [
    "**Interesting value-added insights, now let's take a look at a mean value for all the columns for each star and see if we can find any correlation.**"
   ]
  },
  {
   "cell_type": "code",
   "execution_count": 37,
   "metadata": {},
   "outputs": [
    {
     "data": {
      "text/html": [
       "<div>\n",
       "<style scoped>\n",
       "    .dataframe tbody tr th:only-of-type {\n",
       "        vertical-align: middle;\n",
       "    }\n",
       "\n",
       "    .dataframe tbody tr th {\n",
       "        vertical-align: top;\n",
       "    }\n",
       "\n",
       "    .dataframe thead th {\n",
       "        text-align: right;\n",
       "    }\n",
       "</style>\n",
       "<table border=\"1\" class=\"dataframe\">\n",
       "  <thead>\n",
       "    <tr style=\"text-align: right;\">\n",
       "      <th></th>\n",
       "      <th>cool</th>\n",
       "      <th>useful</th>\n",
       "      <th>funny</th>\n",
       "      <th>text length</th>\n",
       "    </tr>\n",
       "    <tr>\n",
       "      <th>stars</th>\n",
       "      <th></th>\n",
       "      <th></th>\n",
       "      <th></th>\n",
       "      <th></th>\n",
       "    </tr>\n",
       "  </thead>\n",
       "  <tbody>\n",
       "    <tr>\n",
       "      <td>1</td>\n",
       "      <td>0.576769</td>\n",
       "      <td>1.604806</td>\n",
       "      <td>1.056075</td>\n",
       "      <td>826.515354</td>\n",
       "    </tr>\n",
       "    <tr>\n",
       "      <td>2</td>\n",
       "      <td>0.719525</td>\n",
       "      <td>1.563107</td>\n",
       "      <td>0.875944</td>\n",
       "      <td>842.256742</td>\n",
       "    </tr>\n",
       "    <tr>\n",
       "      <td>3</td>\n",
       "      <td>0.788501</td>\n",
       "      <td>1.306639</td>\n",
       "      <td>0.694730</td>\n",
       "      <td>758.498289</td>\n",
       "    </tr>\n",
       "    <tr>\n",
       "      <td>4</td>\n",
       "      <td>0.954623</td>\n",
       "      <td>1.395916</td>\n",
       "      <td>0.670448</td>\n",
       "      <td>712.923142</td>\n",
       "    </tr>\n",
       "    <tr>\n",
       "      <td>5</td>\n",
       "      <td>0.944261</td>\n",
       "      <td>1.381780</td>\n",
       "      <td>0.608631</td>\n",
       "      <td>624.999101</td>\n",
       "    </tr>\n",
       "  </tbody>\n",
       "</table>\n",
       "</div>"
      ],
      "text/plain": [
       "           cool    useful     funny  text length\n",
       "stars                                           \n",
       "1      0.576769  1.604806  1.056075   826.515354\n",
       "2      0.719525  1.563107  0.875944   842.256742\n",
       "3      0.788501  1.306639  0.694730   758.498289\n",
       "4      0.954623  1.395916  0.670448   712.923142\n",
       "5      0.944261  1.381780  0.608631   624.999101"
      ]
     },
     "execution_count": 37,
     "metadata": {},
     "output_type": "execute_result"
    }
   ],
   "source": [
    "stars_stats = yelp.groupby('stars').mean()\n",
    "stars_stats"
   ]
  },
  {
   "cell_type": "markdown",
   "metadata": {},
   "source": [
    "Higher reviews tend to have shorter text length and lower funny attributes. This makes sense because usually the good reviews just describe how good the restaurant is and tend not to be humorous.\n",
    "Vice versa, lower reviews tend to have longer text length and higher useful attributes."
   ]
  },
  {
   "cell_type": "code",
   "execution_count": 42,
   "metadata": {},
   "outputs": [
    {
     "data": {
      "text/plain": [
       "<matplotlib.axes._subplots.AxesSubplot at 0x1a1b12c4d0>"
      ]
     },
     "execution_count": 42,
     "metadata": {},
     "output_type": "execute_result"
    },
    {
     "data": {
      "image/png": "[encoded data removed]",
      "text/plain": [
       "<Figure size 432x288 with 2 Axes>"
      ]
     },
     "metadata": {
      "needs_background": "light"
     },
     "output_type": "display_data"
    }
   ],
   "source": [
    "sns.heatmap(stars_stats.corr(),cmap='coolwarm')"
   ]
  },
  {
   "cell_type": "markdown",
   "metadata": {},
   "source": [
    "A cool message tends to be not so funny; and a funny review tends to be more useful. These are all just correlations."
   ]
  },
  {
   "cell_type": "markdown",
   "metadata": {},
   "source": [
    "**From the EDA process, we can conclude the dataset contains a higher portion of 4 and 5 star reviews. As of length, all the reviews tend to have text length at around 600-800. Higher review have shorter length and lower funny attributes, while bad reviews tend to have longer lenth and higher useful attribute and lower cool attribute.**"
   ]
  },
  {
   "cell_type": "markdown",
   "metadata": {},
   "source": [
    "# Part 3 - NLP Classification Task"
   ]
  },
  {
   "cell_type": "markdown",
   "metadata": {},
   "source": [
    "**First, let's clean the data and remove the punctuation and stop words in the text.**"
   ]
  },
  {
   "cell_type": "code",
   "execution_count": 64,
   "metadata": {},
   "outputs": [
    {
     "name": "stderr",
     "output_type": "stream",
     "text": [
      "[nltk_data] Downloading package stopwords to\n",
      "[nltk_data]     /Users/yuqiaozhong/nltk_data...\n",
      "[nltk_data]   Unzipping corpora/stopwords.zip.\n"
     ]
    },
    {
     "data": {
      "text/plain": [
       "True"
      ]
     },
     "execution_count": 64,
     "metadata": {},
     "output_type": "execute_result"
    }
   ],
   "source": [
    "import string\n",
    "import nltk\n",
    "from nltk.corpus import stopwords\n",
    "nltk.download('stopwords')"
   ]
  },
  {
   "cell_type": "code",
   "execution_count": 69,
   "metadata": {},
   "outputs": [],
   "source": [
    "def text_process(mess):\n",
    "    \"\"\"\n",
    "    Takes in a string of text, then performs the following:\n",
    "    1. Remove all punctuation\n",
    "    2. Remove all stopwords\n",
    "    3. Returns a list of the cleaned text\n",
    "    \"\"\"\n",
    "    # Check characters to see if they are in punctuation\n",
    "    nopunc = [char for char in mess if char not in string.punctuation]\n",
    "\n",
    "    # Join the characters again to form the string.\n",
    "    nopunc = ''.join(nopunc)\n",
    "    \n",
    "    # Now just remove any stopwords\n",
    "    return [word for word in nopunc.split() if word.lower() not in stopwords.words('english')]"
   ]
  },
  {
   "cell_type": "code",
   "execution_count": 74,
   "metadata": {},
   "outputs": [
    {
     "data": {
      "text/plain": [
       "0       [wife, took, birthday, breakfast, excellent, w...\n",
       "1       [idea, people, give, bad, reviews, place, goes...\n",
       "2       [love, gyro, plate, Rice, good, also, dig, can...\n",
       "3       [Rosie, Dakota, LOVE, Chaparral, Dog, Park, co...\n",
       "4       [General, Manager, Scott, Petello, good, egg, ...\n",
       "                              ...                        \n",
       "9995    [First, visitHad, lunch, today, used, Groupon,...\n",
       "9996    [called, house, deliciousness, could, go, item...\n",
       "9997    [recently, visited, Olive, Ivy, business, last...\n",
       "9998    [nephew, moved, Scottsdale, recently, bunch, f...\n",
       "9999    [45, locations, 45, star, average, think, Ariz...\n",
       "Name: text, Length: 10000, dtype: object"
      ]
     },
     "execution_count": 74,
     "metadata": {},
     "output_type": "execute_result"
    }
   ],
   "source": [
    "yelp['text'].apply(text_process)"
   ]
  },
  {
   "cell_type": "markdown",
   "metadata": {},
   "source": [
    "**Now we have the text data ready to be analyzed, let's split the data into training and test dataset.** \n",
    "\n",
    "**First, let's only look at 1-star and 5-star data.**"
   ]
  },
  {
   "cell_type": "code",
   "execution_count": 95,
   "metadata": {},
   "outputs": [],
   "source": [
    "yelp_class=yelp[(yelp.stars==1) | (yelp.stars==5)]"
   ]
  },
  {
   "cell_type": "code",
   "execution_count": 101,
   "metadata": {},
   "outputs": [],
   "source": [
    "from sklearn.model_selection import train_test_split\n",
    "X=yelp_class['text']\n",
    "y=yelp_class['stars']\n",
    "X_train,X_test,y_train,y_test = train_test_split(X,y,test_size=0.3,random_state=101)"
   ]
  },
  {
   "cell_type": "markdown",
   "metadata": {},
   "source": [
    "**Next, let's create a pipeline to train the model. The pipeline will consist of three parts:**\n",
    "\n",
    "**1) Vectorize the processed text message to integer counts**\n",
    "\n",
    "**2) Weight the counts to TF-IDF scores**\n",
    "\n",
    "**3) Train the model with Naive Bayes classifier.**"
   ]
  },
  {
   "cell_type": "code",
   "execution_count": 86,
   "metadata": {},
   "outputs": [],
   "source": [
    "from sklearn.feature_extraction.text import CountVectorizer # vectorize the text\n",
    "from sklearn.feature_extraction.text import TfidfTransformer # weight the counts\n",
    "from sklearn.naive_bayes import MultinomialNB # Use naive bayes model to train and predict the data"
   ]
  },
  {
   "cell_type": "code",
   "execution_count": 87,
   "metadata": {},
   "outputs": [],
   "source": [
    "from sklearn.pipeline import Pipeline\n",
    "pipeline = Pipeline([\n",
    "    ('bow', CountVectorizer(analyzer=text_process)),  # strings to token integer counts\n",
    "    ('tfidf', TfidfTransformer()),  # integer counts to weighted TF-IDF scores\n",
    "    ('classifier', MultinomialNB()),  # train on TF-IDF vectors w/ Naive Bayes classifier\n",
    "])"
   ]
  },
  {
   "cell_type": "markdown",
   "metadata": {},
   "source": [
    "**Ok, let's train and fit the data!**"
   ]
  },
  {
   "cell_type": "code",
   "execution_count": 102,
   "metadata": {},
   "outputs": [],
   "source": [
    "pipeline.fit(X_train,y_train)\n",
    "prediction = pipeline.predict(X_test)"
   ]
  },
  {
   "cell_type": "markdown",
   "metadata": {},
   "source": [
    "# Evaluate the model"
   ]
  },
  {
   "cell_type": "code",
   "execution_count": 103,
   "metadata": {},
   "outputs": [
    {
     "name": "stdout",
     "output_type": "stream",
     "text": [
      "[[  0 228]\n",
      " [  0 998]]\n",
      "\n",
      "\n",
      "\n",
      "              precision    recall  f1-score   support\n",
      "\n",
      "           1       0.00      0.00      0.00       228\n",
      "           5       0.81      1.00      0.90       998\n",
      "\n",
      "    accuracy                           0.81      1226\n",
      "   macro avg       0.41      0.50      0.45      1226\n",
      "weighted avg       0.66      0.81      0.73      1226\n",
      "\n"
     ]
    },
    {
     "name": "stderr",
     "output_type": "stream",
     "text": [
      "/opt/anaconda3/lib/python3.7/site-packages/sklearn/metrics/classification.py:1437: UndefinedMetricWarning: Precision and F-score are ill-defined and being set to 0.0 in labels with no predicted samples.\n",
      "  'precision', 'predicted', average, warn_for)\n"
     ]
    }
   ],
   "source": [
    "from sklearn.metrics import confusion_matrix, classification_report\n",
    "print(confusion_matrix(y_test,prediction))\n",
    "print('\\n\\n')\n",
    "print(classification_report(y_test,prediction))"
   ]
  },
  {
   "cell_type": "markdown",
   "metadata": {},
   "source": [
    "The results are not very good. Let's try not including the Tfidf method. "
   ]
  },
  {
   "cell_type": "code",
   "execution_count": 104,
   "metadata": {},
   "outputs": [],
   "source": [
    "from sklearn.pipeline import Pipeline\n",
    "pipeline2 = Pipeline([\n",
    "    ('bow', CountVectorizer(analyzer=text_process)),  # strings to token integer counts  \n",
    "    ('classifier', MultinomialNB()),  # train on TF-IDF vectors w/ Naive Bayes classifier\n",
    "])"
   ]
  },
  {
   "cell_type": "code",
   "execution_count": 105,
   "metadata": {},
   "outputs": [],
   "source": [
    "pipeline2.fit(X_train,y_train)\n",
    "prediction = pipeline2.predict(X_test)"
   ]
  },
  {
   "cell_type": "code",
   "execution_count": 106,
   "metadata": {},
   "outputs": [
    {
     "name": "stdout",
     "output_type": "stream",
     "text": [
      "[[143  85]\n",
      " [ 11 987]]\n",
      "\n",
      "\n",
      "\n",
      "              precision    recall  f1-score   support\n",
      "\n",
      "           1       0.93      0.63      0.75       228\n",
      "           5       0.92      0.99      0.95       998\n",
      "\n",
      "    accuracy                           0.92      1226\n",
      "   macro avg       0.92      0.81      0.85      1226\n",
      "weighted avg       0.92      0.92      0.92      1226\n",
      "\n"
     ]
    }
   ],
   "source": [
    "print(confusion_matrix(y_test,prediction))\n",
    "print('\\n\\n')\n",
    "print(classification_report(y_test,prediction))"
   ]
  },
  {
   "cell_type": "markdown",
   "metadata": {},
   "source": [
    "# Part 4 - Conclusion"
   ]
  },
  {
   "cell_type": "markdown",
   "metadata": {},
   "source": [
    "Overall accuracy reaches 92%. 96 out of 1226 reviews are put in the wrong category. \n",
    "\n",
    "Before using machine learning techniques to identify reviews, I cleaned the dataset of 10000 messages obtained from Kaggle Yelp review dataset by removing punctuation and stop words in each review. Then I choose the data which only contains 1 star and 5 star reviews to further train the data. I created a pipeline that vectorized the text messages, calculated TF-IDF of each vector, and train the data with Naive Bayes algorithm. However the model only reached accuracy rate of 81% overall.\n",
    "\n",
    "I then remove the TF-IDF step from the whole process and re-calculate the accuracy and it turns out to be much higher to 92%. \n",
    "\n",
    "This is just a very simple project to apply what I have learned of Natural Language Processing to a Kaggle dataset, but there are many other techniques that can enhance the process."
   ]
  }
 ],
 "metadata": {
  "kernelspec": {
   "display_name": "Python 3",
   "language": "python",
   "name": "python3"
  },
  "language_info": {
   "codemirror_mode": {
    "name": "ipython",
    "version": 3
   },
   "file_extension": ".py",
   "mimetype": "text/x-python",
   "name": "python",
   "nbconvert_exporter": "python",
   "pygments_lexer": "ipython3",
   "version": "3.7.4"
  },
  "toc": {
   "base_numbering": 1,
   "nav_menu": {},
   "number_sections": false,
   "sideBar": false,
   "skip_h1_title": false,
   "title_cell": "Table of Contents",
   "title_sidebar": "Contents",
   "toc_cell": false,
   "toc_position": {},
   "toc_section_display": false,
   "toc_window_display": false
  }
 },
 "nbformat": 4,
 "nbformat_minor": 2
}
